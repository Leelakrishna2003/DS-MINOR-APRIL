{
  "nbformat": 4,
  "nbformat_minor": 0,
  "metadata": {
    "colab": {
      "name": "DS-MINOR-PROJECT.ipynb",
      "provenance": [],
      "authorship_tag": "ABX9TyOpwKQfU2YJrBCS1HjWvLTe",
      "include_colab_link": true
    },
    "kernelspec": {
      "name": "python3",
      "display_name": "Python 3"
    },
    "language_info": {
      "name": "python"
    }
  },
  "cells": [
    {
      "cell_type": "markdown",
      "metadata": {
        "id": "view-in-github",
        "colab_type": "text"
      },
      "source": [
        "<a href=\"https://colab.research.google.com/github/Leelakrishna2003/DS-MINOR-APRIL/blob/main/DS_MINOR_PROJECT.ipynb\" target=\"_parent\"><img src=\"https://colab.research.google.com/assets/colab-badge.svg\" alt=\"Open In Colab\"/></a>"
      ]
    },
    {
      "cell_type": "code",
      "metadata": {
        "colab": {
          "base_uri": "https://localhost:8080/"
        },
        "id": "1ZexAs3DoGXG",
        "outputId": "7d380d43-7993-43a2-b0de-a56a03042da7"
      },
      "source": [
        "!pip install bing-image-downloader"
      ],
      "execution_count": 1,
      "outputs": [
        {
          "output_type": "stream",
          "text": [
            "Collecting bing-image-downloader\n",
            "  Downloading https://files.pythonhosted.org/packages/0d/bf/537a61030b84ae4cd5022d5c7b014fd9bc3ce7c02358919153a6658a61d3/bing_image_downloader-1.0.4-py3-none-any.whl\n",
            "Installing collected packages: bing-image-downloader\n",
            "Successfully installed bing-image-downloader-1.0.4\n"
          ],
          "name": "stdout"
        }
      ]
    },
    {
      "cell_type": "code",
      "metadata": {
        "id": "WyqpvhzboWa1"
      },
      "source": [
        "!mkdir images"
      ],
      "execution_count": 2,
      "outputs": []
    },
    {
      "cell_type": "code",
      "metadata": {
        "colab": {
          "base_uri": "https://localhost:8080/"
        },
        "id": "3XJRq9vKoeaw",
        "outputId": "c49cac08-6e65-4899-f517-a439ff0d1415"
      },
      "source": [
        "from bing_image_downloader import downloader\n",
        "downloader.download(\" porsche car\",limit=20,output_dir='images',adult_filter_off=True)"
      ],
      "execution_count": 3,
      "outputs": [
        {
          "output_type": "stream",
          "text": [
            "\n",
            "\n",
            "[!!]Indexing page: 1\n",
            "\n",
            "[%] Indexed 10 Images on Page 1.\n",
            "\n",
            "===============================================\n",
            "\n",
            "[%] Downloading Image #1 from https://www.carpixel.net/w/678a349abceb0263c1beffedb1033a33/dodge-challenger-srt-hellcat-car-wallpaper-12341.jpg\n",
            "[%] File Downloaded !\n",
            "\n",
            "[%] Downloading Image #2 from https://s1.cdn.autoevolution.com/images/news/gallery/porsche-electric-le-mans-2035-prototype-looks-believable-and-makes-perfect-sense_13.jpg\n",
            "[%] File Downloaded !\n",
            "\n",
            "[%] Downloading Image #3 from https://live.staticflickr.com/1574/25752121593_54bcfeda95_b.jpg\n",
            "[%] File Downloaded !\n",
            "\n",
            "[%] Downloading Image #4 from https://www.carpixel.net/w/8f3b487375b1dc8aad90e99b9db67412/lamborghini-sian-fkp-37-car-wallpaper-94959.jpg\n",
            "[%] File Downloaded !\n",
            "\n",
            "[%] Downloading Image #5 from https://pictures.topspeed.com/IMG/crop/201904/stunning-nio-et-prev-4_1600x0w.jpg\n",
            "[%] File Downloaded !\n",
            "\n",
            "[%] Downloading Image #6 from http://www.hdcarwallpapers.com/download/2020_tesla_roadster_4k_6-1920x1080.jpg\n",
            "[%] File Downloaded !\n",
            "\n",
            "[%] Downloading Image #7 from https://www.pelicanparts.com/literature/posters/poster28_big.jpg\n",
            "[%] File Downloaded !\n",
            "\n",
            "[%] Downloading Image #8 from https://www.carpixel.net/w/6cc719b0a5c3da0a67cc1dc91da14b46/dodge-charger-blacktop-car-wallpaper-12572.jpg\n",
            "[%] File Downloaded !\n",
            "\n",
            "[%] Downloading Image #9 from https://www.carpixel.net/w/02cf7613e5b19f465773347b3f808ce9/dodge-charger-pursuit-awd-wallpaper-hd-12917.jpg\n",
            "[%] File Downloaded !\n",
            "\n",
            "[%] Downloading Image #10 from http://www.motorverso.com/wp-content/uploads/2016/02/Performance-Car-Show-2016-17.jpg\n",
            "[%] File Downloaded !\n",
            "\n",
            "\n",
            "\n",
            "[!!]Indexing page: 2\n",
            "\n",
            "[%] Indexed 10 Images on Page 2.\n",
            "\n",
            "===============================================\n",
            "\n",
            "[%] Downloading Image #11 from https://www.carpixel.net/w/678a349abceb0263c1beffedb1033a33/dodge-challenger-srt-hellcat-car-wallpaper-12341.jpg\n",
            "[%] File Downloaded !\n",
            "\n",
            "[%] Downloading Image #12 from https://s1.cdn.autoevolution.com/images/news/gallery/porsche-electric-le-mans-2035-prototype-looks-believable-and-makes-perfect-sense_13.jpg\n",
            "[%] File Downloaded !\n",
            "\n",
            "[%] Downloading Image #13 from https://live.staticflickr.com/1574/25752121593_54bcfeda95_b.jpg\n",
            "[%] File Downloaded !\n",
            "\n",
            "[%] Downloading Image #14 from https://www.carpixel.net/w/8f3b487375b1dc8aad90e99b9db67412/lamborghini-sian-fkp-37-car-wallpaper-94959.jpg\n",
            "[%] File Downloaded !\n",
            "\n",
            "[%] Downloading Image #15 from https://pictures.topspeed.com/IMG/crop/201904/stunning-nio-et-prev-4_1600x0w.jpg\n",
            "[%] File Downloaded !\n",
            "\n",
            "[%] Downloading Image #16 from http://www.hdcarwallpapers.com/download/2020_tesla_roadster_4k_6-1920x1080.jpg\n",
            "[%] File Downloaded !\n",
            "\n",
            "[%] Downloading Image #17 from https://www.pelicanparts.com/literature/posters/poster28_big.jpg\n",
            "[%] File Downloaded !\n",
            "\n",
            "[%] Downloading Image #18 from https://www.carpixel.net/w/6cc719b0a5c3da0a67cc1dc91da14b46/dodge-charger-blacktop-car-wallpaper-12572.jpg\n",
            "[%] File Downloaded !\n",
            "\n",
            "[%] Downloading Image #19 from https://www.carpixel.net/w/02cf7613e5b19f465773347b3f808ce9/dodge-charger-pursuit-awd-wallpaper-hd-12917.jpg\n",
            "[%] File Downloaded !\n",
            "\n",
            "[%] Downloading Image #20 from http://www.motorverso.com/wp-content/uploads/2016/02/Performance-Car-Show-2016-17.jpg\n",
            "[%] File Downloaded !\n",
            "\n"
          ],
          "name": "stdout"
        }
      ]
    },
    {
      "cell_type": "code",
      "metadata": {
        "colab": {
          "base_uri": "https://localhost:8080/"
        },
        "id": "up50h716okix",
        "outputId": "98db6d42-39db-4aa4-8d98-1641f22a8ad3"
      },
      "source": [
        "downloader.download(\"ball\",limit=20,output_dir='images',adult_filter_off=True)"
      ],
      "execution_count": 4,
      "outputs": [
        {
          "output_type": "stream",
          "text": [
            "\n",
            "\n",
            "[!!]Indexing page: 1\n",
            "\n",
            "[%] Indexed 10 Images on Page 1.\n",
            "\n",
            "===============================================\n",
            "\n",
            "[%] Downloading Image #1 from https://vignette.wikia.nocookie.net/dokkanbattlefr/images/d/dc/ArtworkGokussbssragi2.png/revision/latest?cb=20180831081118&amp;path-prefix=fr\n",
            "[!] Issue getting: https://vignette.wikia.nocookie.net/dokkanbattlefr/images/d/dc/ArtworkGokussbssragi2.png/revision/latest?cb=20180831081118&amp;path-prefix=fr\n",
            "[!] Error:: HTTP Error 404: Not Found\n",
            "[%] Downloading Image #1 from https://www.farrow-ball.com/globalassets/products/paint/off-black/off-black-bedroom.jpg\n",
            "[%] File Downloaded !\n",
            "\n",
            "[%] Downloading Image #2 from https://www.columbiatribune.com/storyimage/MO/20160907/Lifestyle/309079949/AR/0/AR-309079949.jpg\n",
            "[%] File Downloaded !\n",
            "\n",
            "[%] Downloading Image #3 from https://www.icreativeideas.com/wp-content/uploads/2014/06/balloon15.jpg\n",
            "[%] File Downloaded !\n",
            "\n",
            "[%] Downloading Image #4 from https://wallpaperpure.net/wp-content/uploads/2018/07/4a37fb3428b79c9a358a6f52608f1db4-720x1280.jpeg\n",
            "[%] File Downloaded !\n",
            "\n",
            "[%] Downloading Image #5 from http://www.crustncakes.com/blog/wp-content/uploads/2016/12/f2792ed2946633bd90ae4383e847ac2b.jpg\n",
            "[%] File Downloaded !\n",
            "\n",
            "[%] Downloading Image #6 from https://www.top13.net/wp-content/uploads/2015/01/surrealist-collage-luke-robson3-699x1024.jpg\n",
            "[%] File Downloaded !\n",
            "\n",
            "[%] Downloading Image #7 from http://www.awesomeinventions.com/wp-content/uploads/2015/06/dog-jumping-catching-ball.jpg\n",
            "[%] File Downloaded !\n",
            "\n",
            "[%] Downloading Image #8 from https://www.obnoxiousantiques.com/wp-content/uploads/2012/02/P1040394-600x800.jpg\n",
            "[%] File Downloaded !\n",
            "\n",
            "[%] Downloading Image #9 from https://www.coinoppartsetc.com/sites/default/files/products/POOL%20SHARKS%20Pinball%20Machine%20Game%20for%20sale%20by%20BALLY%20%20%20%2810%29.JPG\n",
            "[%] File Downloaded !\n",
            "\n",
            "\n",
            "\n",
            "[!!]Indexing page: 2\n",
            "\n",
            "[%] Indexed 10 Images on Page 2.\n",
            "\n",
            "===============================================\n",
            "\n",
            "[%] Downloading Image #10 from https://www.dandwiki.com/w/images/5/5c/Gremlindw25.jpg\n",
            "[%] File Downloaded !\n",
            "\n",
            "[%] Downloading Image #11 from https://cdn.asiatatler.com/asiatatler/ph/i/2018/08/09153748-FPEREZ_WEDDING_MARTIN_ARI-48_resized_1334x2000.jpg\n",
            "[%] File Downloaded !\n",
            "\n",
            "[%] Downloading Image #12 from http://www.hdwallpapers.in/download/vegeta_dragon_ball_super-540x960.jpg\n",
            "[%] File Downloaded !\n",
            "\n",
            "[%] Downloading Image #13 from https://www.interiorsbycolor.com/wp-content/uploads/2013/12/Scott-Snyder-Waterside-Palm-Beach-FL-Home-1024x767.jpg\n",
            "[%] File Downloaded !\n",
            "\n",
            "[%] Downloading Image #14 from http://www.interiorsbycolor.com/wp-content/uploads/2014/07/navy-blue-wall.jpg\n",
            "[%] File Downloaded !\n",
            "\n",
            "[%] Downloading Image #15 from https://i.pinimg.com/736x/38/91/7a/38917a54e3ed555e21608489c54ade72--elephants-breath-paint-elephants-breath-farrow-and-ball.jpg\n",
            "[%] File Downloaded !\n",
            "\n",
            "[%] Downloading Image #16 from https://www.2cabinetgirls.com/wp-content/uploads/2019/06/IMG_5596.jpg\n",
            "[%] File Downloaded !\n",
            "\n",
            "[%] Downloading Image #17 from https://www.fightersgeneration.com/news2020/char/roshi/master-roshi-dragonball2.JPG\n",
            "[%] File Downloaded !\n",
            "\n",
            "[%] Downloading Image #18 from https://www.b3multimedia.ie/wp-content/uploads/2014/10/sign-20.jpg\n",
            "[%] File Downloaded !\n",
            "\n",
            "[%] Downloading Image #19 from http://www.topdreamer.com/wp-content/uploads/2013/12/front-door-Christmas-decoration-3-634x848.jpg\n",
            "[%] File Downloaded !\n",
            "\n",
            "\n",
            "\n",
            "[!!]Indexing page: 3\n",
            "\n",
            "[%] Indexed 9 Images on Page 3.\n",
            "\n",
            "===============================================\n",
            "\n",
            "[%] Downloading Image #20 from https://www.icreativeideas.com/wp-content/uploads/2014/06/balloon15.jpg\n",
            "[%] File Downloaded !\n",
            "\n",
            "\n",
            "\n",
            "[%] Done. Downloaded 20 images.\n",
            "\n",
            "===============================================\n",
            "\n"
          ],
          "name": "stdout"
        }
      ]
    },
    {
      "cell_type": "code",
      "metadata": {
        "colab": {
          "base_uri": "https://localhost:8080/"
        },
        "id": "XGuxHmw5o0xd",
        "outputId": "1daa98c0-585e-4a3c-ea08-14b4f055c46e"
      },
      "source": [
        "downloader.download(\"lord krishna\",limit=20,output_dir='images',adult_filter_off=True)"
      ],
      "execution_count": 5,
      "outputs": [
        {
          "output_type": "stream",
          "text": [
            "\n",
            "\n",
            "[!!]Indexing page: 1\n",
            "\n",
            "[%] Indexed 10 Images on Page 1.\n",
            "\n",
            "===============================================\n",
            "\n",
            "[%] Downloading Image #1 from https://i.pinimg.com/736x/a4/2b/28/a42b280f171af909ddbae77d974ae82a.jpg\n",
            "[%] File Downloaded !\n",
            "\n",
            "[%] Downloading Image #2 from http://www.whoa.in/20131111-Whoa/sad-radha-hand-painting.jpg\n",
            "[%] File Downloaded !\n",
            "\n",
            "[%] Downloading Image #3 from https://i.pinimg.com/736x/d5/98/26/d5982690c5e50076ce8d7f22d49ae60e.jpg\n",
            "[%] File Downloaded !\n",
            "\n",
            "[%] Downloading Image #4 from https://sanskritdocuments.org/sites/giirvaani/giirvaani/nataraja_symbolism/nataraja.jpg\n",
            "[%] File Downloaded !\n",
            "\n",
            "[%] Downloading Image #5 from https://johnworldpeace.com/images/krishna07.jpg\n",
            "[%] File Downloaded !\n",
            "\n",
            "[%] Downloading Image #6 from https://wallpapercave.com/wp/wp6838888.jpg\n",
            "[%] File Downloaded !\n",
            "\n",
            "[%] Downloading Image #7 from http://i.ytimg.com/vi/AQDSreQ23nk/maxresdefault.jpg\n",
            "[%] File Downloaded !\n",
            "\n",
            "[%] Downloading Image #8 from https://i.pinimg.com/736x/0a/86/83/0a86836718cc42f374d9342a2cace210.jpg\n",
            "[%] File Downloaded !\n",
            "\n",
            "[%] Downloading Image #9 from https://i.pinimg.com/736x/c0/18/39/c01839a038ab5d43374ab4ef34706da4.jpg\n",
            "[%] File Downloaded !\n",
            "\n",
            "[%] Downloading Image #10 from https://www.southjewellery.com/wp-content/uploads/2017/02/lord-krishna-pendant.jpg\n",
            "[%] File Downloaded !\n",
            "\n",
            "\n",
            "\n",
            "[!!]Indexing page: 2\n",
            "\n",
            "[%] Indexed 10 Images on Page 2.\n",
            "\n",
            "===============================================\n",
            "\n",
            "[%] Downloading Image #11 from https://i.pinimg.com/736x/a4/2b/28/a42b280f171af909ddbae77d974ae82a.jpg\n",
            "[%] File Downloaded !\n",
            "\n",
            "[%] Downloading Image #12 from http://www.whoa.in/20131111-Whoa/sad-radha-hand-painting.jpg\n",
            "[%] File Downloaded !\n",
            "\n",
            "[%] Downloading Image #13 from https://i.pinimg.com/736x/d5/98/26/d5982690c5e50076ce8d7f22d49ae60e.jpg\n",
            "[%] File Downloaded !\n",
            "\n",
            "[%] Downloading Image #14 from https://sanskritdocuments.org/sites/giirvaani/giirvaani/nataraja_symbolism/nataraja.jpg\n",
            "[%] File Downloaded !\n",
            "\n",
            "[%] Downloading Image #15 from https://johnworldpeace.com/images/krishna07.jpg\n",
            "[%] File Downloaded !\n",
            "\n",
            "[%] Downloading Image #16 from https://wallpapercave.com/wp/wp6838888.jpg\n",
            "[%] File Downloaded !\n",
            "\n",
            "[%] Downloading Image #17 from http://i.ytimg.com/vi/AQDSreQ23nk/maxresdefault.jpg\n",
            "[%] File Downloaded !\n",
            "\n",
            "[%] Downloading Image #18 from https://i.pinimg.com/736x/0a/86/83/0a86836718cc42f374d9342a2cace210.jpg\n",
            "[%] File Downloaded !\n",
            "\n",
            "[%] Downloading Image #19 from https://i.pinimg.com/736x/c0/18/39/c01839a038ab5d43374ab4ef34706da4.jpg\n",
            "[%] File Downloaded !\n",
            "\n",
            "[%] Downloading Image #20 from https://www.southjewellery.com/wp-content/uploads/2017/02/lord-krishna-pendant.jpg\n",
            "[%] File Downloaded !\n",
            "\n"
          ],
          "name": "stdout"
        }
      ]
    },
    {
      "cell_type": "code",
      "metadata": {
        "id": "paSkhk25o4jA"
      },
      "source": [
        "!rm -rf images/porsche car"
      ],
      "execution_count": 6,
      "outputs": []
    },
    {
      "cell_type": "code",
      "metadata": {
        "id": "uvaicXF_u67h"
      },
      "source": [
        "# Preprocessing\n",
        "\n",
        "import os\n",
        "import matplotlib.pyplot as plt\n",
        "import numpy as np \n",
        "from skimage.io import imread \n",
        "from skimage.transform import resize \n",
        "\n",
        "target = []\n",
        "images = []\n",
        "flat_data = []\n",
        "\n",
        "DATADIR = '/content/images'\n",
        "CATEGORIES = ['car','ball']\n",
        "\n",
        "for category in CATEGORIES :\n",
        "  class_num = CATEGORIES.index(category)\n",
        "  path = os.path.join(DATADIR,category)\n",
        "\n",
        "  for img in os.listdir(path):\n",
        "    #print(img_array.shape)\n",
        "    #plt.imshow(img_array)\n",
        "    img_resized = resize(img_array,(150,150,3))           \n",
        "    flat_data.append(img_resized.flatten())\n",
        "    images.append(img_resized)\n",
        "    target.append(class_num)\n",
        "\n",
        "flat_data = np.array(flat_data)\n",
        "target = np.array(target)\n",
        "images = np.array(images)\n"
      ],
      "execution_count": 17,
      "outputs": []
    },
    {
      "cell_type": "code",
      "metadata": {
        "colab": {
          "base_uri": "https://localhost:8080/"
        },
        "id": "enOPqoAzvh_b",
        "outputId": "71c11ed1-16af-4f0f-b2e6-033fb3035bf8"
      },
      "source": [
        "flat_data"
      ],
      "execution_count": 18,
      "outputs": [
        {
          "output_type": "execute_result",
          "data": {
            "text/plain": [
              "array([[0.57243137, 0.50164017, 0.13333333, ..., 0.09029447, 0.0936732 ,\n",
              "        0.10183695],\n",
              "       [0.57243137, 0.50164017, 0.13333333, ..., 0.09029447, 0.0936732 ,\n",
              "        0.10183695],\n",
              "       [0.57243137, 0.50164017, 0.13333333, ..., 0.09029447, 0.0936732 ,\n",
              "        0.10183695],\n",
              "       ...,\n",
              "       [0.57243137, 0.50164017, 0.13333333, ..., 0.09029447, 0.0936732 ,\n",
              "        0.10183695],\n",
              "       [0.57243137, 0.50164017, 0.13333333, ..., 0.09029447, 0.0936732 ,\n",
              "        0.10183695],\n",
              "       [0.57243137, 0.50164017, 0.13333333, ..., 0.09029447, 0.0936732 ,\n",
              "        0.10183695]])"
            ]
          },
          "metadata": {
            "tags": []
          },
          "execution_count": 18
        }
      ]
    },
    {
      "cell_type": "code",
      "metadata": {
        "colab": {
          "base_uri": "https://localhost:8080/"
        },
        "id": "XdMI48oJvr8k",
        "outputId": "c49657cb-8e7e-4b81-c5d7-5790eac9b0ef"
      },
      "source": [
        "target"
      ],
      "execution_count": 20,
      "outputs": [
        {
          "output_type": "execute_result",
          "data": {
            "text/plain": [
              "array([0, 0, 0, 0, 0, 0, 0, 0, 0, 0, 0, 0, 0, 0, 0, 0, 0, 0, 0, 0, 1, 1,\n",
              "       1, 1, 1, 1, 1, 1, 1, 1, 1, 1, 1, 1, 1, 1, 1, 1, 1, 1])"
            ]
          },
          "metadata": {
            "tags": []
          },
          "execution_count": 20
        }
      ]
    },
    {
      "cell_type": "code",
      "metadata": {
        "colab": {
          "base_uri": "https://localhost:8080/",
          "height": 283
        },
        "id": "2IZoKRpIvvPf",
        "outputId": "2ca8c624-bcae-4f29-e208-f19040696056"
      },
      "source": [
        "unique,count = np.unique(target,return_counts=True)\n",
        "plt.bar(CATEGORIES,count)"
      ],
      "execution_count": 21,
      "outputs": [
        {
          "output_type": "execute_result",
          "data": {
            "text/plain": [
              "<BarContainer object of 2 artists>"
            ]
          },
          "metadata": {
            "tags": []
          },
          "execution_count": 21
        },
        {
          "output_type": "display_data",
          "data": {
            "image/png": "[encoded data removed]",
            "text/plain": [
              "<Figure size 432x288 with 1 Axes>"
            ]
          },
          "metadata": {
            "tags": [],
            "needs_background": "light"
          }
        }
      ]
    },
    {
      "cell_type": "code",
      "metadata": {
        "id": "UmjBb9qdv2h5"
      },
      "source": [
        "#split data into Training and testing \n",
        "from sklearn.model_selection import train_test_split\n",
        "x_train,x_test,y_train,y_test = train_test_split(flat_data,target,test_size=0.3,random_state=109)"
      ],
      "execution_count": 22,
      "outputs": []
    },
    {
      "cell_type": "code",
      "metadata": {
        "colab": {
          "base_uri": "https://localhost:8080/"
        },
        "id": "E5A4R1yLv-Eh",
        "outputId": "92073a35-d545-4e2f-96b4-fc5867acc95b"
      },
      "source": [
        "from sklearn.model_selection import GridSearchCV\n",
        "from sklearn import svm\n",
        "param_grid = [\n",
        "              { 'C':[1,10,100,1000],'kernel':['linear']},\n",
        "              { 'C':[1,10,100,1000],'gamma':[0.001,0.0001],'kernel':['rbf']},           \n",
        "]\n",
        "\n",
        "svc = svm.SVC(probability=True)\n",
        "clf = GridSearchCV(svc,param_grid)\n",
        "clf.fit(x_train,y_train)"
      ],
      "execution_count": 23,
      "outputs": [
        {
          "output_type": "execute_result",
          "data": {
            "text/plain": [
              "GridSearchCV(cv=None, error_score=nan,\n",
              "             estimator=SVC(C=1.0, break_ties=False, cache_size=200,\n",
              "                           class_weight=None, coef0=0.0,\n",
              "                           decision_function_shape='ovr', degree=3,\n",
              "                           gamma='scale', kernel='rbf', max_iter=-1,\n",
              "                           probability=True, random_state=None, shrinking=True,\n",
              "                           tol=0.001, verbose=False),\n",
              "             iid='deprecated', n_jobs=None,\n",
              "             param_grid=[{'C': [1, 10, 100, 1000], 'kernel': ['linear']},\n",
              "                         {'C': [1, 10, 100, 1000], 'gamma': [0.001, 0.0001],\n",
              "                          'kernel': ['rbf']}],\n",
              "             pre_dispatch='2*n_jobs', refit=True, return_train_score=False,\n",
              "             scoring=None, verbose=0)"
            ]
          },
          "metadata": {
            "tags": []
          },
          "execution_count": 23
        }
      ]
    },
    {
      "cell_type": "code",
      "metadata": {
        "colab": {
          "base_uri": "https://localhost:8080/"
        },
        "id": "RmOphI-pwGkM",
        "outputId": "2665d04e-7ab5-474b-c9db-e70c49cca69f"
      },
      "source": [
        "y_pred = clf.predict(x_test)\n",
        "y_pred"
      ],
      "execution_count": 24,
      "outputs": [
        {
          "output_type": "execute_result",
          "data": {
            "text/plain": [
              "array([0, 0, 0, 0, 0, 0, 0, 0, 0, 0, 0, 0])"
            ]
          },
          "metadata": {
            "tags": []
          },
          "execution_count": 24
        }
      ]
    },
    {
      "cell_type": "code",
      "metadata": {
        "colab": {
          "base_uri": "https://localhost:8080/"
        },
        "id": "U_H-llqawJKc",
        "outputId": "23bf6196-7984-4329-c188-eeb84e0eeb4c"
      },
      "source": [
        "y_test"
      ],
      "execution_count": 25,
      "outputs": [
        {
          "output_type": "execute_result",
          "data": {
            "text/plain": [
              "array([0, 1, 1, 1, 0, 0, 0, 0, 1, 1, 1, 0])"
            ]
          },
          "metadata": {
            "tags": []
          },
          "execution_count": 25
        }
      ]
    },
    {
      "cell_type": "code",
      "metadata": {
        "id": "a53i6zHKwPS2"
      },
      "source": [
        "from sklearn.metrics import accuracy_score,confusion_matrix"
      ],
      "execution_count": 26,
      "outputs": []
    },
    {
      "cell_type": "code",
      "metadata": {
        "colab": {
          "base_uri": "https://localhost:8080/"
        },
        "id": "J6uEgUg0wV2r",
        "outputId": "48d87994-a0ae-4e06-d800-a537c3865692"
      },
      "source": [
        "accuracy_score(y_pred,y_test)"
      ],
      "execution_count": 27,
      "outputs": [
        {
          "output_type": "execute_result",
          "data": {
            "text/plain": [
              "0.5"
            ]
          },
          "metadata": {
            "tags": []
          },
          "execution_count": 27
        }
      ]
    },
    {
      "cell_type": "code",
      "metadata": {
        "colab": {
          "base_uri": "https://localhost:8080/"
        },
        "id": "1N-K9OZewbG8",
        "outputId": "cdfa6051-43de-4939-de20-05a1ad285c1d"
      },
      "source": [
        "confusion_matrix(y_pred,y_test)"
      ],
      "execution_count": 28,
      "outputs": [
        {
          "output_type": "execute_result",
          "data": {
            "text/plain": [
              "array([[6, 6],\n",
              "       [0, 0]])"
            ]
          },
          "metadata": {
            "tags": []
          },
          "execution_count": 28
        }
      ]
    },
    {
      "cell_type": "code",
      "metadata": {
        "id": "kZKPiaKBwc-1"
      },
      "source": [
        "#save the model using pickle library\n",
        "\n",
        "import pickle\n",
        "pickle.dump(clf,open('img_model.p','wb'))"
      ],
      "execution_count": 29,
      "outputs": []
    },
    {
      "cell_type": "code",
      "metadata": {
        "id": "sVT4-H2zwer4"
      },
      "source": [
        "model = pickle.load(open('img_model.p','rb'))"
      ],
      "execution_count": 30,
      "outputs": []
    },
    {
      "cell_type": "code",
      "metadata": {
        "colab": {
          "base_uri": "https://localhost:8080/",
          "height": 324
        },
        "id": "pSXdd9C2wvqS",
        "outputId": "67308ae9-7953-4d98-dd34-a3c0f33f11ad"
      },
      "source": [
        "flat_data = []\n",
        "url = input('Enter your URL ')\n",
        "img = imread(url)\n",
        "img_resized = resize(img,(150,150,3))\n",
        "flat_data.append(img_resized.flatten())\n",
        "flat_data = np.array(flat_data)\n",
        "print(img.shape)\n",
        "plt.imshow(img_resized)\n",
        "y_out = model.predict(flat_data)\n",
        "y_out = CATEGORIES[y_out[0]]\n",
        "print(f' PREDICTED OUTPUT: {y_out}')"
      ],
      "execution_count": 31,
      "outputs": [
        {
          "output_type": "stream",
          "text": [
            "Enter your URL https://cdn.autoportal.com/img/new-cars-gallery/porsche/macan/colors/fd7a995f2dad2184603b14c31b3b1fd7.jpg\n",
            "(375, 500, 3)\n",
            " PREDICTED OUTPUT: car\n"
          ],
          "name": "stdout"
        },
        {
          "output_type": "display_data",
          "data": {
            "image/png": "[encoded data removed]",
            "text/plain": [
              "<Figure size 432x288 with 1 Axes>"
            ]
          },
          "metadata": {
            "tags": [],
            "needs_background": "light"
          }
        }
      ]
    },
    {
      "cell_type": "code",
      "metadata": {
        "colab": {
          "base_uri": "https://localhost:8080/",
          "height": 324
        },
        "id": "IScFIQH5xI1A",
        "outputId": "d7acc4e7-3e86-4a2e-a33b-b7752768fe22"
      },
      "source": [
        "flat_data = []\n",
        "url = input('Enter your URL ')\n",
        "img = imread(url)\n",
        "img_resized = resize(img,(150,150,3))\n",
        "flat_data.append(img_resized.flatten())\n",
        "flat_data = np.array(flat_data)\n",
        "print(img.shape)\n",
        "plt.imshow(img_resized)\n",
        "y_out = model.predict(flat_data)\n",
        "y_out = CATEGORIES[y_out[0]]\n",
        "print(f' PREDICTED OUTPUT: {y_out}')"
      ],
      "execution_count": 33,
      "outputs": [
        {
          "output_type": "stream",
          "text": [
            "Enter your URL https://cdn.autoportal.com/img/new-cars-gallery/porsche/718/colors/8d896d61394c201347577c63b02c584b.jpg\n",
            "(375, 500, 3)\n",
            " PREDICTED OUTPUT: car\n"
          ],
          "name": "stdout"
        },
        {
          "output_type": "display_data",
          "data": {
            "image/png": "[encoded data removed]",
            "text/plain": [
              "<Figure size 432x288 with 1 Axes>"
            ]
          },
          "metadata": {
            "tags": [],
            "needs_background": "light"
          }
        }
      ]
    }
  ]
}